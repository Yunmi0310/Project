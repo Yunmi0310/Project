{
 "cells": [
  {
   "cell_type": "code",
   "execution_count": 77,
   "metadata": {},
   "outputs": [],
   "source": [
    "from __future__ import absolute_import, division, print_function, unicode_literals\n",
    "import numpy as np\n",
    "import pandas as pd\n",
    "import matplotlib.pyplot as plt\n",
    "import seaborn as sns\n",
    "import tensorflow as tf\n",
    "from tensorflow import keras\n",
    "from keras.utils.np_utils import to_categorical\n",
    "from keras.utils import np_utils\n",
    "from sklearn.model_selection import train_test_split\n",
    "from keras.layers import Conv2D, MaxPooling2D\n",
    "from keras.layers import Flatten, Dense\n",
    "from keras.models import Sequential\n",
    "from keras.layers.normalization import BatchNormalization\n",
    "from keras import optimizers"
   ]
  },
  {
   "cell_type": "code",
   "execution_count": 103,
   "metadata": {},
   "outputs": [],
   "source": [
    "# preprocessing \n",
    "def preprocess(train,test):\n",
    "    # test set does not have label\n",
    "    train = pd.read_csv(train)\n",
    "    X_test = pd.read_csv(test)\n",
    "    \n",
    "    X_train = train.drop('label', axis =1)\n",
    "    y_train = train['label']\n",
    "    \n",
    "    # visualize if the targets are balanced \n",
    "    plt.figure(figsize=(10,4))\n",
    "    plt.xticks(fontsize=24, rotation=0)\n",
    "    plt.yticks(fontsize=24, rotation=0)\n",
    "    sns.countplot(data=train, x='label')\n",
    "    \n",
    "   \n",
    "   # reshape 28x28x1 (1 is channel for gray color)\n",
    "    X_train = X_train.values.reshape(X_train.shape[0], 28, 28,1)\n",
    "    X_test = X_test.values.reshape(X_test.shape[0],28,28,1)\n",
    "    \n",
    "    # scaling \n",
    "    X_train=X_train/255.\n",
    "    X_test = X_test/255.\n",
    "    \n",
    "    # take validation set from train set \n",
    "    X_train, X_val, y_train, y_val = train_test_split(X_train, y_train, test_size = 0.1, random_state=17)\n",
    "    \n",
    "    # One-hot encode the training labels(change the numbers to binary code )\n",
    "    y_train_encode = np_utils.to_categorical(y_train)\n",
    "    y_val_encode = np_utils.to_categorical(y_val)\n",
    "    \n",
    "    return X_train, X_val, y_train_encode, y_val_encode, X_test"
   ]
  },
  {
   "cell_type": "code",
   "execution_count": 104,
   "metadata": {},
   "outputs": [
    {
     "data": {
      "image/png": "[encoded data removed]",
      "text/plain": [
       "<Figure size 720x288 with 1 Axes>"
      ]
     },
     "metadata": {
      "needs_background": "light"
     },
     "output_type": "display_data"
    }
   ],
   "source": [
    "X_train, X_val, y_train_encode, y_val_encode = preprocess('train.csv','test_.csv')"
   ]
  },
  {
   "cell_type": "code",
   "execution_count": 111,
   "metadata": {},
   "outputs": [
    {
     "name": "stdout",
     "output_type": "stream",
     "text": [
      "X_train: (37800, 28, 28, 1) \n",
      "X_validation: (4200, 28, 28, 1) \n",
      "X_test: (28000, 28, 28, 1)\n"
     ]
    }
   ],
   "source": [
    "print('X_train:', X_train.shape, '\\nX_validation:', X_val.shape, '\\nX_test:', test.shape)"
   ]
  },
  {
   "cell_type": "code",
   "execution_count": 114,
   "metadata": {},
   "outputs": [
    {
     "name": "stdout",
     "output_type": "stream",
     "text": [
      "Model: \"sequential_12\"\n",
      "_________________________________________________________________\n",
      "Layer (type)                 Output Shape              Param #   \n",
      "=================================================================\n",
      "conv2d_20 (Conv2D)           (None, 28, 28, 64)        1664      \n",
      "_________________________________________________________________\n",
      "batch_normalization_19 (Batc (None, 28, 28, 64)        256       \n",
      "_________________________________________________________________\n",
      "max_pooling2d_19 (MaxPooling (None, 14, 14, 64)        0         \n",
      "_________________________________________________________________\n",
      "conv2d_21 (Conv2D)           (None, 14, 14, 64)        102464    \n",
      "_________________________________________________________________\n",
      "batch_normalization_20 (Batc (None, 14, 14, 64)        256       \n",
      "_________________________________________________________________\n",
      "max_pooling2d_20 (MaxPooling (None, 7, 7, 64)          0         \n",
      "_________________________________________________________________\n",
      "flatten_10 (Flatten)         (None, 3136)              0         \n",
      "_________________________________________________________________\n",
      "dense_14 (Dense)             (None, 256)               803072    \n",
      "_________________________________________________________________\n",
      "dense_15 (Dense)             (None, 10)                2570      \n",
      "=================================================================\n",
      "Total params: 910,282\n",
      "Trainable params: 910,026\n",
      "Non-trainable params: 256\n",
      "_________________________________________________________________\n"
     ]
    }
   ],
   "source": [
    "# normalize them to speed up learning and reduces overfitting as it adds some noise to each hidden layer’s activations\n",
    "# use Xavier initialization to remain the variance the same. This helps us keep the signal from exploding to a high value or vanishing to zero\n",
    "# set parameters \n",
    "batch_size = 256\n",
    "epochs = 10\n",
    "stride = 1 # move one pixel at a time\n",
    "model = Sequential()\n",
    "learning_rate=0.01\n",
    "# First convolutional layer accepts image input\n",
    "model.add(Conv2D(filters=64, kernel_size=(5,5), padding='same', activation='relu', \n",
    "                        input_shape=(28, 28, 1)))\n",
    "\n",
    "model.add(BatchNormalization())\n",
    "# Add another max pooling layer\n",
    "model.add(MaxPooling2D(2))\n",
    "\n",
    "\n",
    "# Add a convolutional layer\n",
    "model.add(Conv2D(filters = 64, kernel_size = 5, padding='same', activation='relu'))\n",
    "\n",
    "model.add(BatchNormalization())\n",
    "# Add another max pooling layer\n",
    "model.add(MaxPooling2D(2))\n",
    "\n",
    "\n",
    "# Flatten and feed to output layer\n",
    "model.add(Flatten())\n",
    "model.add(Dense(256, activation = \"relu\"))\n",
    "model.add(Dense(10, activation = \"softmax\"))\n",
    "\n",
    "# Summarize the model\n",
    "model.summary()\n",
    "\n",
    "# Compile the model\n",
    "# used SGD+momentum(0.9)\n",
    "sgd = optimizers.SGD(lr=0.01, decay=1e-6, momentum=0.9, nesterov=True)\n",
    "model.compile(optimizer='sgd', \n",
    "loss='categorical_crossentropy', \n",
    "metrics=['accuracy'])\n",
    "\n"
   ]
  },
  {
   "cell_type": "code",
   "execution_count": 115,
   "metadata": {},
   "outputs": [
    {
     "name": "stdout",
     "output_type": "stream",
     "text": [
      "Train on 37800 samples, validate on 4200 samples\n",
      "Epoch 1/10\n",
      "37800/37800 [==============================] - 100s 3ms/step - loss: 0.3309 - accuracy: 0.9124 - val_loss: 2.1488 - val_accuracy: 0.1874\n",
      "Epoch 2/10\n",
      "37800/37800 [==============================] - 97s 3ms/step - loss: 0.0955 - accuracy: 0.9736 - val_loss: 1.6253 - val_accuracy: 0.5086\n",
      "Epoch 3/10\n",
      "37800/37800 [==============================] - 100s 3ms/step - loss: 0.0654 - accuracy: 0.9820 - val_loss: 0.4982 - val_accuracy: 0.9486\n",
      "Epoch 4/10\n",
      "37800/37800 [==============================] - 97s 3ms/step - loss: 0.0503 - accuracy: 0.9862 - val_loss: 0.1101 - val_accuracy: 0.9776\n",
      "Epoch 5/10\n",
      "37800/37800 [==============================] - 96s 3ms/step - loss: 0.0401 - accuracy: 0.9893 - val_loss: 0.0648 - val_accuracy: 0.9802\n",
      "Epoch 6/10\n",
      "37800/37800 [==============================] - 96s 3ms/step - loss: 0.0333 - accuracy: 0.9914 - val_loss: 0.0563 - val_accuracy: 0.9817\n",
      "Epoch 7/10\n",
      "37800/37800 [==============================] - 96s 3ms/step - loss: 0.0280 - accuracy: 0.9932 - val_loss: 0.0531 - val_accuracy: 0.9824\n",
      "Epoch 8/10\n",
      "37800/37800 [==============================] - 96s 3ms/step - loss: 0.0240 - accuracy: 0.9946 - val_loss: 0.0497 - val_accuracy: 0.9833\n",
      "Epoch 9/10\n",
      "37800/37800 [==============================] - 101s 3ms/step - loss: 0.0205 - accuracy: 0.9959 - val_loss: 0.0471 - val_accuracy: 0.9848\n",
      "Epoch 10/10\n",
      "37800/37800 [==============================] - 101s 3ms/step - loss: 0.0179 - accuracy: 0.9966 - val_loss: 0.0478 - val_accuracy: 0.9838\n"
     ]
    }
   ],
   "source": [
    "# Train the model\n",
    "history = model.fit(X_train, y_train_encode,\n",
    "                    validation_data=(X_val, y_val_encode),epochs =epochs, batch_size = batch_size)"
   ]
  },
  {
   "cell_type": "code",
   "execution_count": 119,
   "metadata": {},
   "outputs": [
    {
     "data": {
      "image/png": "[encoded data removed]",
      "text/plain": [
       "<Figure size 432x288 with 1 Axes>"
      ]
     },
     "metadata": {
      "needs_background": "light"
     },
     "output_type": "display_data"
    }
   ],
   "source": [
    "# Evaluate the model\n",
    "# The gap of accuracy between train and validation is very narrow so it is good. \n",
    "# validation acuuracy starts to decrease from epoch 10 so we can stop on epoch 9 \n",
    "plt.plot(history.history['accuracy'], label='accuracy')\n",
    "plt.plot(history.history['val_accuracy'], label = 'val_accuracy')\n",
    "plt.xlabel('Epoch')\n",
    "plt.ylabel('Accuracy')\n",
    "plt.ylim([0.5, 1])\n",
    "plt.legend(loc='lower right')"
   ]
  },
  {
   "cell_type": "code",
   "execution_count": 124,
   "metadata": {},
   "outputs": [
    {
     "name": "stdout",
     "output_type": "stream",
     "text": [
      "Validation accuracy: 0.9838095307350159\n"
     ]
    }
   ],
   "source": [
    "score = model.evaluate(x=X_val, \n",
    "                       y=y_val_encode,\n",
    "                       verbose=0)\n",
    "print('Validation accuracy:', score[1])"
   ]
  },
  {
   "cell_type": "code",
   "execution_count": 126,
   "metadata": {},
   "outputs": [],
   "source": [
    "# submit on kaggle to obtain test accuracy\n",
    "predictions = model.predict_classes(X_test, verbose=0)\n",
    "\n",
    "submissions=pd.DataFrame({\"ImageId\": list(range(1,len(predictions)+1)),\n",
    "                         \"Label\": predictions})\n",
    "submissions.to_csv(\"submission.csv\", index=False, header=True)"
   ]
  },
  {
   "cell_type": "markdown",
   "metadata": {},
   "source": [
    "- Test accuracy is 0.98614 which is good as it is higher than training and validation accuracy(training is not overfitted)"
   ]
  }
 ],
 "metadata": {
  "kernelspec": {
   "display_name": "yunmi",
   "language": "python",
   "name": "yunmi"
  },
  "language_info": {
   "codemirror_mode": {
    "name": "ipython",
    "version": 3
   },
   "file_extension": ".py",
   "mimetype": "text/x-python",
   "name": "python",
   "nbconvert_exporter": "python",
   "pygments_lexer": "ipython3",
   "version": "3.7.3"
  }
 },
 "nbformat": 4,
 "nbformat_minor": 2
}
